{
 "cells": [
  {
   "cell_type": "markdown",
   "id": "30b337e7",
   "metadata": {},
   "source": [
    "# Numeric data types"
   ]
  },
  {
   "cell_type": "code",
   "execution_count": 4,
   "id": "e68c037b",
   "metadata": {},
   "outputs": [
    {
     "data": {
      "text/plain": [
       "int"
      ]
     },
     "execution_count": 4,
     "metadata": {},
     "output_type": "execute_result"
    }
   ],
   "source": [
    "x=42 #integer\n",
    "type(x)\n"
   ]
  },
  {
   "cell_type": "code",
   "execution_count": 5,
   "id": "c597a99d",
   "metadata": {},
   "outputs": [
    {
     "name": "stdout",
     "output_type": "stream",
     "text": [
      "42\n"
     ]
    }
   ],
   "source": [
    "print(x)"
   ]
  },
  {
   "cell_type": "code",
   "execution_count": 6,
   "id": "9918816a",
   "metadata": {},
   "outputs": [
    {
     "data": {
      "text/plain": [
       "42"
      ]
     },
     "execution_count": 6,
     "metadata": {},
     "output_type": "execute_result"
    }
   ],
   "source": [
    "x # in Jupyter/IPython we don't actually need to explicitly print for the last line of a cell"
   ]
  },
  {
   "cell_type": "code",
   "execution_count": 7,
   "id": "99112468",
   "metadata": {},
   "outputs": [
    {
     "name": "stdout",
     "output_type": "stream",
     "text": [
      "3.14159\n"
     ]
    }
   ],
   "source": [
    "pi=3.14159 #float\n",
    "print(pi)"
   ]
  },
  {
   "cell_type": "code",
   "execution_count": 8,
   "id": "6718ddda",
   "metadata": {},
   "outputs": [
    {
     "data": {
      "text/plain": [
       "float"
      ]
     },
     "execution_count": 8,
     "metadata": {},
     "output_type": "execute_result"
    }
   ],
   "source": [
    "type(pi)"
   ]
  },
  {
   "cell_type": "code",
   "execution_count": 3,
   "id": "371e3f1e",
   "metadata": {},
   "outputs": [],
   "source": [
    "# function to print only pair numbers\n",
    "def print_pair(num):\n",
    "    if num% 2 == 0:\n",
    "        print(f\"{num} is a pair number!\")"
   ]
  },
  {
   "cell_type": "code",
   "execution_count": 4,
   "id": "0b0fd9e7-6135-4c95-be1e-634c236302bf",
   "metadata": {},
   "outputs": [
    {
     "name": "stdout",
     "output_type": "stream",
     "text": [
      "0 is a pair number!\n",
      "2 is a pair number!\n",
      "4 is a pair number!\n",
      "6 is a pair number!\n",
      "8 is a pair number!\n",
      "10 is a pair number!\n"
     ]
    }
   ],
   "source": [
    "for num in range(0,11):\n",
    "    print_pair(num)"
   ]
  }
 ],
 "metadata": {
  "kernelspec": {
   "display_name": "Python 3 (ipykernel)",
   "language": "python",
   "name": "python3"
  },
  "language_info": {
   "codemirror_mode": {
    "name": "ipython",
    "version": 3
   },
   "file_extension": ".py",
   "mimetype": "text/x-python",
   "name": "python",
   "nbconvert_exporter": "python",
   "pygments_lexer": "ipython3",
   "version": "3.10.11"
  }
 },
 "nbformat": 4,
 "nbformat_minor": 5
}
