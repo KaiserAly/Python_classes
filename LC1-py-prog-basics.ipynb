{
 "cells": [
  {
   "cell_type": "markdown",
   "id": "30b337e7",
   "metadata": {},
   "source": [
    "# Numeric data types"
   ]
  },
  {
   "cell_type": "code",
   "execution_count": 4,
   "id": "e68c037b",
   "metadata": {},
   "outputs": [
    {
     "data": {
      "text/plain": [
       "int"
      ]
     },
     "execution_count": 4,
     "metadata": {},
     "output_type": "execute_result"
    }
   ],
   "source": [
    "x=42 #integer\n",
    "type(x)\n"
   ]
  },
  {
   "cell_type": "code",
   "execution_count": 5,
   "id": "c597a99d",
   "metadata": {},
   "outputs": [
    {
     "name": "stdout",
     "output_type": "stream",
     "text": [
      "42\n"
     ]
    }
   ],
   "source": [
    "print(x)"
   ]
  },
  {
   "cell_type": "code",
   "execution_count": 6,
   "id": "9918816a",
   "metadata": {},
   "outputs": [
    {
     "data": {
      "text/plain": [
       "42"
      ]
     },
     "execution_count": 6,
     "metadata": {},
     "output_type": "execute_result"
    }
   ],
   "source": [
    "x # in Jupyter/IPython we don't actually need to explicitly print for the last line of a cell"
   ]
  },
  {
   "cell_type": "code",
   "execution_count": 7,
   "id": "99112468",
   "metadata": {},
   "outputs": [
    {
     "name": "stdout",
     "output_type": "stream",
     "text": [
      "3.14159\n"
     ]
    }
   ],
   "source": [
    "pi=3.14159 #float\n",
    "print(pi)"
   ]
  },
  {
   "cell_type": "code",
   "execution_count": 8,
   "id": "6718ddda",
   "metadata": {},
   "outputs": [
    {
     "data": {
      "text/plain": [
       "float"
      ]
     },
     "execution_count": 8,
     "metadata": {},
     "output_type": "execute_result"
    }
   ],
   "source": [
    "type(pi)"
   ]
  },
  {
   "cell_type": "code",
   "execution_count": null,
   "id": "371e3f1e",
   "metadata": {},
   "outputs": [],
   "source": []
  }
 ],
 "metadata": {
  "kernelspec": {
   "display_name": "Python 3 (ipykernel)",
   "language": "python",
   "name": "python3"
  },
  "language_info": {
   "codemirror_mode": {
    "name": "ipython",
    "version": 3
   },
   "file_extension": ".py",
   "mimetype": "text/x-python",
   "name": "python",
   "nbconvert_exporter": "python",
   "pygments_lexer": "ipython3",
   "version": "3.11.3"
  }
 },
 "nbformat": 4,
 "nbformat_minor": 5
}
